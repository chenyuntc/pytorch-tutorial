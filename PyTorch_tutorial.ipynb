{
 "cells": [
  {
   "cell_type": "markdown",
   "metadata": {
    "deletable": true,
    "editable": true
   },
   "source": [
    "# Deep Learning with PyTorch: A 60-minute Blitz\n",
    "\n",
    "\n",
    "官方原版： https://github.com/pytorch/tutorials/blob/master/Deep%20Learning%20with%20PyTorch.ipynb\n",
    "\n",
    "\n",
    "**Note:**\n",
    "\n",
    "*本教程需要读者掌握基础的[numpy知识](http://cs231n.github.io/python-numpy-tutorial/)*\n",
    "\n",
    "需要先安装 [PyTorch](https://github.com/pytorch/pytorch) 和 [torchvision](https://github.com/pytorch/vision) \n",
    "\n",
    "## 0 序言\n",
    "### 0.1 何为 PyTorch?\n",
    "\n",
    "python 优先的计算包，主要针对用户的两类需求：\n",
    "\n",
    "- 作为numpy的替代品， 提供GPU加速\n",
    "- 作为深度学习框架， 提供最大的灵活性和速度\n",
    "\n",
    "### 0.2 目标\n",
    "\n",
    "- 理解PyTorch的核心数据结构 Tensor 和Variable，以及高阶的神经网络接口(nn).\n",
    "- 训练一个神经网络进行图片分类（mnist+cifar10）\n",
    " \n"
   ]
  },
  {
   "cell_type": "markdown",
   "metadata": {
    "deletable": true,
    "editable": true
   },
   "source": [
    "\n",
    "\n",
    "## 1 Tensors\n",
    "\n",
    "Tensors 就像numpy的ndarrays(多维数组)， 但是PyTorch的Tensor可以使用GPU进行加速。\n",
    "### 1.1 Tensor的基础操作"
   ]
  },
  {
   "cell_type": "code",
   "execution_count": 1,
   "metadata": {
    "collapsed": false,
    "deletable": true,
    "editable": true
   },
   "outputs": [],
   "source": [
    "from __future__ import print_function\n",
    "import torch"
   ]
  },
  {
   "cell_type": "code",
   "execution_count": 2,
   "metadata": {
    "collapsed": false,
    "deletable": true,
    "editable": true
   },
   "outputs": [
    {
     "data": {
      "text/plain": [
       "\n",
       " 0.0000e+00  0.0000e+00  0.0000e+00\n",
       " 0.0000e+00  4.2096e+28  4.5681e-41\n",
       "-6.5144e-34  4.5681e-41 -6.5123e-34\n",
       " 4.5681e-41  4.2319e+28  4.5681e-41\n",
       " 0.0000e+00  0.0000e+00  0.0000e+00\n",
       "[torch.FloatTensor of size 5x3]"
      ]
     },
     "execution_count": 2,
     "metadata": {},
     "output_type": "execute_result"
    }
   ],
   "source": [
    "x = torch.Tensor(5, 3)  # 构建 5x3 矩阵, 未初始化\n",
    "x"
   ]
  },
  {
   "cell_type": "code",
   "execution_count": 3,
   "metadata": {
    "collapsed": false,
    "deletable": true,
    "editable": true
   },
   "outputs": [
    {
     "data": {
      "text/plain": [
       "\n",
       " 0.5520  0.2597  0.9464\n",
       " 0.5238  0.9201  0.5218\n",
       " 0.6035  0.7167  0.4188\n",
       " 0.0631  0.8454  0.6235\n",
       " 0.0021  0.5462  0.5746\n",
       "[torch.FloatTensor of size 5x3]"
      ]
     },
     "execution_count": 3,
     "metadata": {},
     "output_type": "execute_result"
    }
   ],
   "source": [
    "x = torch.rand(5, 3)  # construct a randomly initialized matrix\n",
    "x"
   ]
  },
  {
   "cell_type": "code",
   "execution_count": 4,
   "metadata": {
    "collapsed": false,
    "deletable": true,
    "editable": true
   },
   "outputs": [
    {
     "name": "stdout",
     "output_type": "stream",
     "text": [
      "torch.Size([5, 3])\n"
     ]
    },
    {
     "data": {
      "text/plain": [
       "3L"
      ]
     },
     "execution_count": 4,
     "metadata": {},
     "output_type": "execute_result"
    }
   ],
   "source": [
    "print(x.size())\n",
    "x.size()[1]"
   ]
  },
  {
   "cell_type": "markdown",
   "metadata": {
    "deletable": true,
    "editable": true
   },
   "source": [
    "*NOTE: `torch.Size` 是一个tuple对象的子类,  所以它支持tuple的所有操作， 比如x.size()[0] *"
   ]
  },
  {
   "cell_type": "code",
   "execution_count": 5,
   "metadata": {
    "collapsed": true,
    "deletable": true,
    "editable": true
   },
   "outputs": [],
   "source": [
    "y = torch.rand(5, 3)"
   ]
  },
  {
   "cell_type": "code",
   "execution_count": 6,
   "metadata": {
    "collapsed": false,
    "deletable": true,
    "editable": true
   },
   "outputs": [
    {
     "data": {
      "text/plain": [
       "\n",
       " 1.2363  0.9091  1.8475\n",
       " 1.2508  1.6440  1.0354\n",
       " 1.0828  0.7802  0.7106\n",
       " 0.1495  1.0999  0.8028\n",
       " 0.3056  1.3334  1.3437\n",
       "[torch.FloatTensor of size 5x3]"
      ]
     },
     "execution_count": 6,
     "metadata": {},
     "output_type": "execute_result"
    }
   ],
   "source": [
    "# addition: syntax 1\n",
    "x + y"
   ]
  },
  {
   "cell_type": "code",
   "execution_count": 7,
   "metadata": {
    "collapsed": false,
    "deletable": true,
    "editable": true
   },
   "outputs": [
    {
     "data": {
      "text/plain": [
       "\n",
       " 1.2363  0.9091  1.8475\n",
       " 1.2508  1.6440  1.0354\n",
       " 1.0828  0.7802  0.7106\n",
       " 0.1495  1.0999  0.8028\n",
       " 0.3056  1.3334  1.3437\n",
       "[torch.FloatTensor of size 5x3]"
      ]
     },
     "execution_count": 7,
     "metadata": {},
     "output_type": "execute_result"
    }
   ],
   "source": [
    "# addition: syntax 2\n",
    "torch.add(x, y)"
   ]
  },
  {
   "cell_type": "code",
   "execution_count": 8,
   "metadata": {
    "collapsed": false,
    "deletable": true,
    "editable": true
   },
   "outputs": [
    {
     "name": "stdout",
     "output_type": "stream",
     "text": [
      "\n",
      " 0.6843  0.6493  0.9012\n",
      " 0.7270  0.7239  0.5136\n",
      " 0.4794  0.0635  0.2918\n",
      " 0.0864  0.2545  0.1794\n",
      " 0.3035  0.7873  0.7691\n",
      "[torch.FloatTensor of size 5x3]\n",
      "\n"
     ]
    }
   ],
   "source": [
    "print (y)"
   ]
  },
  {
   "cell_type": "code",
   "execution_count": 9,
   "metadata": {
    "collapsed": false,
    "deletable": true,
    "editable": true
   },
   "outputs": [
    {
     "data": {
      "text/plain": [
       "\n",
       " 1.2363  0.9091  1.8475\n",
       " 1.2508  1.6440  1.0354\n",
       " 1.0828  0.7802  0.7106\n",
       " 0.1495  1.0999  0.8028\n",
       " 0.3056  1.3334  1.3437\n",
       "[torch.FloatTensor of size 5x3]"
      ]
     },
     "execution_count": 9,
     "metadata": {},
     "output_type": "execute_result"
    }
   ],
   "source": [
    "# addition: giving an output tensor 指定加法结果的输出目标为result\n",
    "result = torch.Tensor(5, 3)\n",
    "torch.add(x, y, out=result)\n",
    "result"
   ]
  },
  {
   "cell_type": "code",
   "execution_count": 10,
   "metadata": {
    "collapsed": false,
    "deletable": true,
    "editable": true
   },
   "outputs": [
    {
     "name": "stdout",
     "output_type": "stream",
     "text": [
      "\n",
      " 1.2363  0.9091  1.8475\n",
      " 1.2508  1.6440  1.0354\n",
      " 1.0828  0.7802  0.7106\n",
      " 0.1495  1.0999  0.8028\n",
      " 0.3056  1.3334  1.3437\n",
      "[torch.FloatTensor of size 5x3]\n",
      "\n"
     ]
    }
   ],
   "source": [
    "# ！！！！in-place加法！！\n",
    "y.add(x) # 普通加法, y不变\n",
    "y.add_(x) # inplace 加法, y变了\n",
    "print(y)"
   ]
  },
  {
   "cell_type": "markdown",
   "metadata": {
    "deletable": true,
    "editable": true
   },
   "source": [
    "> **Note: ** 函数名后面跟着 **`_`** 的函数会修改tensor 本身 \n",
    "\n",
    "> \n",
    "> 比如：  `x.copy_(y)`, `x.t_()`, 会改变 `x`.\n",
    "> \n",
    ">但是x.t() 返回一个新的 矩阵， 而x的数据不变"
   ]
  },
  {
   "cell_type": "code",
   "execution_count": 11,
   "metadata": {
    "collapsed": false,
    "deletable": true,
    "editable": true
   },
   "outputs": [
    {
     "data": {
      "text/plain": [
       "\n",
       " 0.2597\n",
       " 0.9201\n",
       " 0.7167\n",
       " 0.8454\n",
       " 0.5462\n",
       "[torch.FloatTensor of size 5]"
      ]
     },
     "execution_count": 11,
     "metadata": {},
     "output_type": "execute_result"
    }
   ],
   "source": [
    "# Tensor具有和numpy类似的选取（indexing）操作   （standard numpy-like indexing with all bells and whistles）\n",
    "x[:,1]"
   ]
  },
  {
   "cell_type": "markdown",
   "metadata": {
    "deletable": true,
    "editable": true
   },
   "source": [
    "#### Read later:\n",
    "\n",
    "更多的Tensor操作， 包括transposing, indexing, slicing, \n",
    "mathematical operations, linear algebra, random numbers, etc.\n",
    "请参考： \n",
    "http://pytorch.org/docs/torch.html"
   ]
  },
  {
   "cell_type": "markdown",
   "metadata": {
    "deletable": true,
    "editable": true
   },
   "source": [
    "### 1.2 与numpy转换\n",
    "so easy\n",
    "\n",
    "另外，Tensor和numpy对象共享内存， 所以他们之间的转换很快，而且不会消耗太多的额外资源.\n",
    "\n",
    "**但这也意味着，其中一个变了，另外一个也会随之改变**\n",
    " \n",
    "\n",
    "#### 1.2.1 torch Tensor -> numpy Array"
   ]
  },
  {
   "cell_type": "code",
   "execution_count": 12,
   "metadata": {
    "collapsed": false,
    "deletable": true,
    "editable": true
   },
   "outputs": [
    {
     "data": {
      "text/plain": [
       "\n",
       " 1\n",
       " 1\n",
       " 1\n",
       " 1\n",
       " 1\n",
       "[torch.FloatTensor of size 5]"
      ]
     },
     "execution_count": 12,
     "metadata": {},
     "output_type": "execute_result"
    }
   ],
   "source": [
    "a = torch.ones(5)\n",
    "a"
   ]
  },
  {
   "cell_type": "code",
   "execution_count": 13,
   "metadata": {
    "collapsed": false,
    "deletable": true,
    "editable": true
   },
   "outputs": [
    {
     "data": {
      "text/plain": [
       "array([ 1.,  1.,  1.,  1.,  1.], dtype=float32)"
      ]
     },
     "execution_count": 13,
     "metadata": {},
     "output_type": "execute_result"
    }
   ],
   "source": [
    "b = a.numpy()\n",
    "b"
   ]
  },
  {
   "cell_type": "code",
   "execution_count": 14,
   "metadata": {
    "collapsed": false,
    "deletable": true,
    "editable": true
   },
   "outputs": [
    {
     "name": "stdout",
     "output_type": "stream",
     "text": [
      "\n",
      " 2\n",
      " 2\n",
      " 2\n",
      " 2\n",
      " 2\n",
      "[torch.FloatTensor of size 5]\n",
      "\n",
      "[ 2.  2.  2.  2.  2.]\n"
     ]
    }
   ],
   "source": [
    "a.add_(1) #以`_` 结尾的函数 是in-place 会修改自身！！\n",
    "print(a)\n",
    "print(b) # tensor变了，numpy 的array也变了，因为他们共享内存。"
   ]
  },
  {
   "cell_type": "markdown",
   "metadata": {
    "deletable": true,
    "editable": true
   },
   "source": [
    "#### 1.2.2 numpy Array -> torch Tensor"
   ]
  },
  {
   "cell_type": "code",
   "execution_count": 15,
   "metadata": {
    "collapsed": false,
    "deletable": true,
    "editable": true
   },
   "outputs": [
    {
     "name": "stdout",
     "output_type": "stream",
     "text": [
      "[ 2.  2.  2.  2.  2.]\n",
      "\n",
      " 2\n",
      " 2\n",
      " 2\n",
      " 2\n",
      " 2\n",
      "[torch.DoubleTensor of size 5]\n",
      "\n"
     ]
    }
   ],
   "source": [
    "import numpy as np\n",
    "a = np.ones(5)\n",
    "b = torch.from_numpy(a)\n",
    "np.add(a, 1, out=a)\n",
    "print(a)\n",
    "print(b) #  array变了，tensor也变了，因为他们共享内存。"
   ]
  },
  {
   "cell_type": "markdown",
   "metadata": {
    "deletable": true,
    "editable": true
   },
   "source": [
    "除了`charTensor`， 大多数基于CPU的Tensor都支持和Numpy的Array转换\n",
    " \n",
    "### 1.3 GPU: CUDA Tensors\n",
    "Tensor可以通过`.cuda` 函数转为GPU的Tensor"
   ]
  },
  {
   "cell_type": "code",
   "execution_count": 16,
   "metadata": {
    "collapsed": false,
    "deletable": true,
    "editable": true
   },
   "outputs": [],
   "source": [
    "# 如果GPU可用的话，就执行下一步\n",
    "if torch.cuda.is_available():\n",
    "    x = x.cuda()\n",
    "    y = y.cuda()\n",
    "    x + y"
   ]
  },
  {
   "cell_type": "markdown",
   "metadata": {
    "deletable": true,
    "editable": true
   },
   "source": [
    "\n",
    "**Next: 神经网络 与 PyTorch **\n",
    "\n",
    "PyTorch中神经网络模块的核心是**`autograd`**模块， 先来过一过`autograd`知识\n",
    "## 2 Autograd: 自动微分（求导？）\n",
    "\n",
    "在Tensor上的所有操作，autograde都能为他们自动提供微分， autograd采用define-by-run的运行机制（注意和define-and-run的区别），意味着反向传播的过程取决于你怎么定义代码（好抽象），即你每次计算都可以提供一个不一样的操作（不像TensorFlow预先定义好一个图，然后不能改，要运行好几次）\n",
    " \n",
    "### 2.1 Variable\n",
    "`autograd.Variable`是autograd中的核心类, \n",
    "它简单的封装了Tensor，并支持几乎所有Tensor操作（即tensor支持的操作，你基本都能直接用在Variable上, Tensor在被封装为Variable之后， 可以调用它的`.backward`操作实现反向传播，自动计算所有梯度)\n"
   ]
  },
  {
   "cell_type": "code",
   "execution_count": 17,
   "metadata": {
    "collapsed": true,
    "deletable": true,
    "editable": true
   },
   "outputs": [],
   "source": [
    "from torch.autograd import Variable\n",
    "import torch"
   ]
  },
  {
   "cell_type": "code",
   "execution_count": 18,
   "metadata": {
    "collapsed": false,
    "deletable": true,
    "editable": true,
    "scrolled": true
   },
   "outputs": [
    {
     "data": {
      "text/plain": [
       "Variable containing:\n",
       " 1  1\n",
       " 1  1\n",
       "[torch.FloatTensor of size 2x2]"
      ]
     },
     "execution_count": 18,
     "metadata": {},
     "output_type": "execute_result"
    }
   ],
   "source": [
    "x = Variable(torch.ones(2, 2), requires_grad = True)\n",
    "x"
   ]
  },
  {
   "cell_type": "code",
   "execution_count": 19,
   "metadata": {
    "collapsed": false,
    "deletable": true,
    "editable": true
   },
   "outputs": [
    {
     "data": {
      "text/plain": [
       "Variable containing:\n",
       " 1\n",
       "[torch.FloatTensor of size 1]"
      ]
     },
     "execution_count": 19,
     "metadata": {},
     "output_type": "execute_result"
    }
   ],
   "source": [
    "y = x.mean()\n",
    "y"
   ]
  },
  {
   "cell_type": "code",
   "execution_count": 20,
   "metadata": {
    "collapsed": true,
    "deletable": true,
    "editable": true
   },
   "outputs": [],
   "source": [
    "y.backward()"
   ]
  },
  {
   "cell_type": "code",
   "execution_count": 21,
   "metadata": {
    "collapsed": false,
    "deletable": true,
    "editable": true
   },
   "outputs": [
    {
     "data": {
      "text/plain": [
       "Variable containing:\n",
       " 0.2500  0.2500\n",
       " 0.2500  0.2500\n",
       "[torch.FloatTensor of size 2x2]"
      ]
     },
     "execution_count": 21,
     "metadata": {},
     "output_type": "execute_result"
    }
   ],
   "source": [
    "x.grad # y = x.mean-> y = 0.25 * (x[0][0] + x[0][1] + x[1][0] + x[1][1]) "
   ]
  },
  {
   "cell_type": "markdown",
   "metadata": {
    "deletable": true,
    "editable": true
   },
   "source": [
    "![Variable](https://raw.githubusercontent.com/pytorch/tutorials/master/images/Variable.png)\n",
    "通过`.data` 属性，可以访问Variable所包含的Tensor，`.grad` 可以访问对应的梯度(也是个Variable,而不是Tensor)，注意：.grad 和.data的形状一样, 并且.grad是**累加的(accumulated)**, 意味着每一次运行反向传播,梯度都会加上之前的梯度, 所以运行zero_grad很有必要."
   ]
  },
  {
   "cell_type": "code",
   "execution_count": 22,
   "metadata": {
    "collapsed": false,
    "deletable": true,
    "editable": true,
    "scrolled": true
   },
   "outputs": [
    {
     "data": {
      "text/plain": [
       "\n",
       " 1  1\n",
       " 1  1\n",
       "[torch.FloatTensor of size 2x2]"
      ]
     },
     "execution_count": 22,
     "metadata": {},
     "output_type": "execute_result"
    }
   ],
   "source": [
    "x.data"
   ]
  },
  {
   "cell_type": "code",
   "execution_count": 23,
   "metadata": {
    "collapsed": false,
    "deletable": true,
    "editable": true
   },
   "outputs": [
    {
     "data": {
      "text/plain": [
       "Variable containing:\n",
       " 0.5000  0.5000\n",
       " 0.5000  0.5000\n",
       "[torch.FloatTensor of size 2x2]"
      ]
     },
     "execution_count": 23,
     "metadata": {},
     "output_type": "execute_result"
    }
   ],
   "source": [
    "y.backward()\n",
    "x.grad"
   ]
  },
  {
   "cell_type": "code",
   "execution_count": 24,
   "metadata": {
    "collapsed": false,
    "deletable": true,
    "editable": true,
    "scrolled": true
   },
   "outputs": [
    {
     "data": {
      "text/plain": [
       "Variable containing:\n",
       " 0.7500  0.7500\n",
       " 0.7500  0.7500\n",
       "[torch.FloatTensor of size 2x2]"
      ]
     },
     "execution_count": 24,
     "metadata": {},
     "output_type": "execute_result"
    }
   ],
   "source": [
    "y.backward()\n",
    "x.grad"
   ]
  },
  {
   "cell_type": "code",
   "execution_count": 25,
   "metadata": {
    "collapsed": false,
    "deletable": true,
    "editable": true
   },
   "outputs": [
    {
     "data": {
      "text/plain": [
       "\n",
       " 0  0\n",
       " 0  0\n",
       "[torch.FloatTensor of size 2x2]"
      ]
     },
     "execution_count": 25,
     "metadata": {},
     "output_type": "execute_result"
    }
   ],
   "source": [
    "x.grad.data.zero_()"
   ]
  },
  {
   "cell_type": "code",
   "execution_count": 26,
   "metadata": {
    "collapsed": false,
    "deletable": true,
    "editable": true
   },
   "outputs": [
    {
     "data": {
      "text/plain": [
       "Variable containing:\n",
       " 0.2500  0.2500\n",
       " 0.2500  0.2500\n",
       "[torch.FloatTensor of size 2x2]"
      ]
     },
     "execution_count": 26,
     "metadata": {},
     "output_type": "execute_result"
    }
   ],
   "source": [
    "y.backward()\n",
    "x.grad"
   ]
  },
  {
   "cell_type": "markdown",
   "metadata": {
    "deletable": true,
    "editable": true
   },
   "source": [
    "### 2.2 动态图的实现原理\n",
    "\n",
    "autograd中的另一个比较重要的类是Function, 这个类在你实现具有自动求导功能的函数时很有用(注:在实际使用中尽量用nn.module替代)\n",
    "\n",
    "`Variable` 和 `Function` 彼此相互联系, 建立起无环图, 记住计算历史(对应到图,就是每个节点都会记住哪个节点,或者哪条边指向`自己`)\n",
    "这些信息保存在`.creator`属性中, 它指向一个`Function`对象, 这个Function对象的输出是这个Variable自己(由用户创建的Variable的creator 是None 比如      `assert Variable(Tensor(3,4)).creator is None`.\n",
    "\n",
    "注: 关于计算图和方向传播的相关知识,极力推荐: http://colah.github.io/posts/2015-08-Backprop/\n",
    "\n",
    "如果 Variable是一个标量(只包含一个数,而非向量之类的), 你在反向传播时候可以不指定参数,默认是1.否则你必须指定一个梯度,这个梯度和Variable具有相同的形状.\n",
    "\n",
    "$$\n",
    "\\frac{d z}{d x} = \\frac{d z}{d y}    \\frac{d y}{d x}  \n",
    "$$ \n",
    "假设这个Variable是y, 那么反向传播要求的是dz/dx, .backward要传进来的参数就是dz/dy"
   ]
  },
  {
   "cell_type": "code",
   "execution_count": 27,
   "metadata": {
    "collapsed": false,
    "deletable": true,
    "editable": true
   },
   "outputs": [
    {
     "data": {
      "text/plain": [
       "Variable containing:\n",
       " 3  3\n",
       " 3  3\n",
       "[torch.FloatTensor of size 2x2]"
      ]
     },
     "execution_count": 27,
     "metadata": {},
     "output_type": "execute_result"
    }
   ],
   "source": [
    "x = Variable(torch.ones(2,2), requires_grad = True)\n",
    "y = x + 2\n",
    "y"
   ]
  },
  {
   "cell_type": "code",
   "execution_count": 28,
   "metadata": {
    "collapsed": false,
    "deletable": true,
    "editable": true
   },
   "outputs": [
    {
     "data": {
      "text/plain": [
       "<torch.autograd._functions.basic_ops.AddConstant at 0x7f576f0f7b30>"
      ]
     },
     "execution_count": 28,
     "metadata": {},
     "output_type": "execute_result"
    }
   ],
   "source": [
    "y.creator\n",
    "# y was created as a result of an operation, \n",
    "# so it has a creator"
   ]
  },
  {
   "cell_type": "code",
   "execution_count": 29,
   "metadata": {
    "collapsed": false,
    "deletable": true,
    "editable": true
   },
   "outputs": [
    {
     "data": {
      "text/plain": [
       "((Variable containing:\n",
       "   1  1\n",
       "   1  1\n",
       "  [torch.FloatTensor of size 2x2], 0),)"
      ]
     },
     "execution_count": 29,
     "metadata": {},
     "output_type": "execute_result"
    }
   ],
   "source": [
    "y.creator.previous_functions # 第二个为什么是0? 代表着是函数的第一个输出. 为什么没有2, 因为2 不是Variable"
   ]
  },
  {
   "cell_type": "code",
   "execution_count": 30,
   "metadata": {
    "collapsed": false,
    "deletable": true,
    "editable": true
   },
   "outputs": [
    {
     "data": {
      "text/plain": [
       "Variable containing:\n",
       " 27  27\n",
       " 27  27\n",
       "[torch.FloatTensor of size 2x2]"
      ]
     },
     "execution_count": 30,
     "metadata": {},
     "output_type": "execute_result"
    }
   ],
   "source": [
    "z = y * y * 3\n",
    "z"
   ]
  },
  {
   "cell_type": "code",
   "execution_count": 31,
   "metadata": {
    "collapsed": false,
    "deletable": true,
    "editable": true
   },
   "outputs": [
    {
     "data": {
      "text/plain": [
       "<torch.autograd._functions.basic_ops.Mul at 0x7f576f0f7c18>"
      ]
     },
     "execution_count": 31,
     "metadata": {},
     "output_type": "execute_result"
    }
   ],
   "source": [
    "z.creator.previous_functions[0][0]"
   ]
  },
  {
   "cell_type": "code",
   "execution_count": 32,
   "metadata": {
    "collapsed": false,
    "deletable": true,
    "editable": true
   },
   "outputs": [
    {
     "data": {
      "text/plain": [
       "Variable containing:\n",
       " 27\n",
       "[torch.FloatTensor of size 1]"
      ]
     },
     "execution_count": 32,
     "metadata": {},
     "output_type": "execute_result"
    }
   ],
   "source": [
    "out = z.mean()\n",
    "out"
   ]
  },
  {
   "cell_type": "code",
   "execution_count": 33,
   "metadata": {
    "collapsed": false,
    "deletable": true,
    "editable": true
   },
   "outputs": [],
   "source": [
    "# let's backprop now\n",
    "out.backward()\n",
    "\n",
    "# out.backward() 和 out.backward(torch.Tensor([1.0])) 等价"
   ]
  },
  {
   "cell_type": "code",
   "execution_count": 34,
   "metadata": {
    "collapsed": false,
    "deletable": true,
    "editable": true
   },
   "outputs": [
    {
     "data": {
      "text/plain": [
       "Variable containing:\n",
       " 4.5000  4.5000\n",
       " 4.5000  4.5000\n",
       "[torch.FloatTensor of size 2x2]"
      ]
     },
     "execution_count": 34,
     "metadata": {},
     "output_type": "execute_result"
    }
   ],
   "source": [
    "# 打印梯度: d(out)/dx\n",
    "x.grad"
   ]
  },
  {
   "cell_type": "markdown",
   "metadata": {
    "deletable": true,
    "editable": true
   },
   "source": [
    "矩阵大小都是`4.5`. 显而易见, 在纸上稍微 写一下就知道了\n",
    "假设 `out` *Variable* 是\"$o$\".  \n",
    "则有\n",
    "$$o = \\frac{1}{4}\\sum_i z_i$$, \n",
    "$$z_i = 3(x_i+2)^2$$ and \n",
    "$$z_i\\bigr\\rvert_{x_i=1} = 27$$. \n",
    "Therefore, $$\\frac{\\partial o}{\\partial x_i} = \\frac{3}{2}(x_i+2)$$,\n",
    "hence $$\\frac{\\partial o}{\\partial x_i}\\bigr\\rvert_{x_i=1} = \\frac{9}{2} = 4.5$$."
   ]
  },
  {
   "cell_type": "markdown",
   "metadata": {
    "deletable": true,
    "editable": true
   },
   "source": [
    "> **有了AutoGrad可以做很多疯狂的事情:**"
   ]
  },
  {
   "cell_type": "code",
   "execution_count": 35,
   "metadata": {
    "collapsed": true,
    "deletable": true,
    "editable": true
   },
   "outputs": [],
   "source": [
    "x = torch.randn(3)\n",
    "x = Variable(x, requires_grad = True)"
   ]
  },
  {
   "cell_type": "code",
   "execution_count": 36,
   "metadata": {
    "collapsed": false,
    "deletable": true,
    "editable": true
   },
   "outputs": [],
   "source": [
    "y = x * 2\n",
    "while y.data.norm() < 1000:\n",
    "    y = y * 2"
   ]
  },
  {
   "cell_type": "code",
   "execution_count": 37,
   "metadata": {
    "collapsed": false,
    "deletable": true,
    "editable": true
   },
   "outputs": [
    {
     "data": {
      "text/plain": [
       "Variable containing:\n",
       "-1103.9160\n",
       " -307.9434\n",
       "-1322.5341\n",
       "[torch.FloatTensor of size 3]"
      ]
     },
     "execution_count": 37,
     "metadata": {},
     "output_type": "execute_result"
    }
   ],
   "source": [
    "y"
   ]
  },
  {
   "cell_type": "code",
   "execution_count": 38,
   "metadata": {
    "collapsed": false,
    "deletable": true,
    "editable": true
   },
   "outputs": [],
   "source": [
    "gradients = torch.FloatTensor([0.1, 1.0, 0.0001])\n",
    "y.backward(gradients)"
   ]
  },
  {
   "cell_type": "code",
   "execution_count": 39,
   "metadata": {
    "collapsed": false,
    "deletable": true,
    "editable": true
   },
   "outputs": [
    {
     "data": {
      "text/plain": [
       "Variable containing:\n",
       "  102.4000\n",
       " 1024.0000\n",
       "    0.1024\n",
       "[torch.FloatTensor of size 3]"
      ]
     },
     "execution_count": 39,
     "metadata": {},
     "output_type": "execute_result"
    }
   ],
   "source": [
    "x.grad"
   ]
  },
  {
   "cell_type": "markdown",
   "metadata": {
    "deletable": true,
    "editable": true
   },
   "source": [
    "##### Read Later:\n",
    ">更多关于 `Variable` 和 `Function` 的文档: [pytorch.org/docs/autograd.html](http://pytorch.org/docs/autograd.html)\n",
    "\n"
   ]
  },
  {
   "cell_type": "markdown",
   "metadata": {
    "deletable": true,
    "editable": true
   },
   "source": [
    "## 3. 神经网络\n",
    "`torch.nn` 包用来创建神经网络.\n",
    "\n",
    "`nn` 构建于 `autograd` 之上,来定义和运行神经网络. 这个`nn` 和lua torch的`nn` 接口相似, 但是实现几乎完全不一样.\n",
    "\n",
    "nn.Module可以近似为一个网络(?), 包含很多layers, 调用他的forward(input), 可以返回前向传播的结果output\n",
    " \n",
    "\n",
    "来用LeNet + Mnist练练手吧:\n",
    "\n",
    "这是一个基础的前向传播(feed-forward)的网络: 接收输入,并通过一层一层的传递到最后,给出输出.\n",
    "\n",
    "流程如下(大多数的神经网络训练流程都是这样):\n",
    "\n",
    "- 定义网络结构和参数\n",
    "- 在不同的数据中迭代\n",
    "    - 数据预处理,并输入到网络中\n",
    "    - 计算loss(output和目标距离的偏差)\n",
    "    - 反向传播梯度(误差)\n",
    "    - 更新网络参数(使用最基础的SGD `weight = weight + learning_rate * gradient`)\n",
    " \n",
    "\n",
    "### 3.1 定义网络:"
   ]
  },
  {
   "cell_type": "code",
   "execution_count": 44,
   "metadata": {
    "collapsed": false,
    "deletable": true,
    "editable": true
   },
   "outputs": [
    {
     "name": "stdout",
     "output_type": "stream",
     "text": [
      "Net (\n",
      "  (conv1): Conv2d(1, 6, kernel_size=(5, 5), stride=(1, 1))\n",
      "  (conv2): Conv2d(6, 16, kernel_size=(5, 5), stride=(1, 1))\n",
      "  (fc1): Linear (400 -> 120)\n",
      "  (fc2): Linear (120 -> 84)\n",
      "  (fc3): Linear (84 -> 10)\n",
      ")\n",
      "Sequential (\n",
      "  (0): Conv2d(1, 2, kernel_size=(4, 4), stride=(2, 2), padding=(1, 1), bias=False)\n",
      "  (1): LeakyReLU (0.2, inplace)\n",
      "  (2): Conv2d(24, 1, kernel_size=(4, 4), stride=(1, 1), bias=False)\n",
      "  (3): Sigmoid ()\n",
      ")\n"
     ]
    }
   ],
   "source": [
    "import torch.nn as nn\n",
    "import torch.nn.functional as F\n",
    "\n",
    "class Net(nn.Module):\n",
    "    def __init__(self):\n",
    "        super(Net, self).__init__()\n",
    "        self.conv1 = nn.Conv2d(1, 6, 5) # 1通道:因为是黑白图片, 6输出channels,  5x5 的卷积核\n",
    "        self.conv2 = nn.Conv2d(6, 16, 5) #６通道（因为上面的输出是６通道的）\n",
    "        self.fc1   = nn.Linear(16*5*5, 120) # 仿射层，　其实就是: y = Wx + b\n",
    "        self.fc2   = nn.Linear(120, 84)# 同上\n",
    "        self.fc3   = nn.Linear(84, 10)\n",
    "\n",
    "    def forward(self, x):\n",
    "        x = F.max_pool2d(F.relu(self.conv1(x)), (2, 2)) # Max pooling over a (2, 2) window　，也可以直接写成２，如下\n",
    "        x = F.max_pool2d(F.relu(self.conv2(x)), 2) # If the size is a square you can only specify a single number\n",
    "        x = x.view(-1, self.num_flat_features(x))\n",
    "        ###x = x.view(x.size()[0], -1) # 用这个应该也行,\n",
    "#         if x.sum()>100: return x \n",
    "        \n",
    "        x = F.relu(self.fc1(x))\n",
    "        x = F.relu(self.fc2(x))\n",
    "        x = self.fc3(x)\n",
    "#        if x[0]>0 : return 1\n",
    "        \n",
    "        return x\n",
    "    \n",
    "    def num_flat_features(self, x):\n",
    "        size = x.size()[1:] # ｘ的大小是Ｎ*H*W*C N 是batch_size, 我们要的是features_size,也就是一张图片?的所有像素\n",
    "        num_features = 1\n",
    "        for s in size:\n",
    "            num_features *= s\n",
    "        return num_features\n",
    "\n",
    "net = Net()\n",
    "\n",
    "#----------------------------------------------------------------#\n",
    "# 其实我更喜欢这种写法:\n",
    "class MyNet(nn.Module):\n",
    "    def __init__(self):\n",
    "        super(MyNet, self).__init__()\n",
    "        self.main = nn.Sequential(\n",
    "            # input is (nc) x 64 x 64\n",
    "            nn.Conv2d(2, 2, 4, 2, 1, bias=False),\n",
    "            nn.LeakyReLU(0.2, inplace=True),\n",
    "            #......\n",
    "            #......\n",
    "            #......\n",
    "            nn.Conv2d(3 * 8, 1, 4, 1, 0, bias=False),\n",
    "            nn.Sigmoid()\n",
    "        )\n",
    "    def forward(self, input):\n",
    "        return self.main(input)\n",
    "    \n",
    "# 或者更加简化:\n",
    "my_net = nn.Sequential(\n",
    "            # input is (nc) x 64 x 64\n",
    "            nn.Conv2d(1, 2, 4, 2, 1, bias=False),\n",
    "            nn.LeakyReLU(0.2, inplace=True),\n",
    "            #......\n",
    "            #......\n",
    "            #......\n",
    "            nn.Conv2d(3 * 8, 1, 4, 1, 0, bias=False),\n",
    "            nn.Sigmoid()\n",
    "        )\n",
    "print(net)\n",
    "print(my_net)"
   ]
  },
  {
   "cell_type": "markdown",
   "metadata": {
    "deletable": true,
    "editable": true
   },
   "source": [
    "在nn.module的子类中定义了forward函数, `backward` 函数会自动被实现(利用`autograd`)\n",
    "\n",
    "在`forward` 函数中你可以使用任何的Tensor支持的函数, 还可以使用if,for循环,print,log等等. 标准python是怎么写的, 你就可以怎么写的.\n",
    "\n",
    "\n",
    "可学习的参数通过`net.parameters()`返回"
   ]
  },
  {
   "cell_type": "code",
   "execution_count": 45,
   "metadata": {
    "collapsed": false,
    "deletable": true,
    "editable": true
   },
   "outputs": [
    {
     "name": "stdout",
     "output_type": "stream",
     "text": [
      "10\n",
      "torch.Size([6, 1, 5, 5])\n"
     ]
    }
   ],
   "source": [
    "params = list(net.parameters())\n",
    "print(len(params))\n",
    "print(params[0].size()) # conv1's .weight"
   ]
  },
  {
   "cell_type": "markdown",
   "metadata": {
    "deletable": true,
    "editable": true
   },
   "source": [
    "**记住!!!: forward的输入和输出都是 `autograd.Variable`, 因为只有Variable才有自动求导功能,Tensor是没有的**"
   ]
  },
  {
   "cell_type": "code",
   "execution_count": 46,
   "metadata": {
    "collapsed": false,
    "deletable": true,
    "editable": true,
    "scrolled": true
   },
   "outputs": [
    {
     "data": {
      "text/plain": [
       "Variable containing:\n",
       "-0.0201  0.0263 -0.0356 -0.0038 -0.0712  0.0502 -0.0519 -0.1057  0.0980 -0.0247\n",
       "[torch.FloatTensor of size 1x10]"
      ]
     },
     "execution_count": 46,
     "metadata": {},
     "output_type": "execute_result"
    }
   ],
   "source": [
    "input = Variable(torch.randn(1, 1, 32, 32))\n",
    "out = net(input)\n",
    "out"
   ]
  },
  {
   "cell_type": "code",
   "execution_count": 47,
   "metadata": {
    "collapsed": false,
    "deletable": true,
    "editable": true
   },
   "outputs": [],
   "source": [
    "net.zero_grad() # 所有参数的梯度清零\n",
    "out.backward(torch.randn(1, 10)) # 反向传播\n",
    "#out.backward(torch.randn(1, 10)) #如果不清零,再次反向传播会如何? 梯度叠加 (把randn改成one可以更明显的看到效果)"
   ]
  },
  {
   "cell_type": "markdown",
   "metadata": {
    "deletable": true,
    "editable": true
   },
   "source": [
    "> #### NOTE: `torch.nn` 只支持 mini-batches\n",
    "不支持一次只输入一个样本, 一次必须是一个batch. 但如果你一定要输入一个样本的话,用 `input.unsqueeze(0)` .(伪装成只有一个样本的batch)\n",
    " \n",
    "比如 `nn.Conv2d` 输入必须是一个 4D Tensor , 形如: `nSamples x nChannels x Height x Width`. 可以把nsample设为1, 但是形状不能是`nChannels x Height x Width`\n"
   ]
  },
  {
   "cell_type": "markdown",
   "metadata": {
    "deletable": true,
    "editable": true
   },
   "source": [
    "*** 复习一下: ***\n",
    "\n",
    "* `torch.Tensor` - 高维数组  \n",
    "* `autograd.Variable` - **封装Tensor,并记住生成这个Tensor的操作历史 **和`Tensor`有相同的API,,但是多了一些操作,比如`backward()`.  Variable 还比Tensor多了一个`.grad`属性, 包含梯度信息----也是一个Variable.\n",
    "* `nn.Module` - 神经网络模块. **封装了参数, 很方便**, 可以便捷的在GPU,CPU,硬盘(序列化)之间移动. \n",
    "* `nn.Parameter` - (好像并没讲)?一种特殊的Variable ** 当你为nn.Module对象添加一个属性的时候, 会自动注册它为Parameter**, 就像上面的self.conv1=...\n",
    "* `autograd.Function` - **实现了前向传播和反向传播的函数**.\n",
    "每个Variable的操作都会生成至少一个`Function`节点(computation Graph的相关知识), 这个节点记录了调用的函数,和生成的Variable, 从而记录了Variable的生成历史.\n",
    "(Every `Variable` operation, creates at least a single `Function` node, that connects to functions that created a `Variable` and **encodes its history**.)\n",
    "\n",
    "** 我们已经涉及了:**\n",
    "- 定义网络 \n",
    "- 输入数据和调用backward\n",
    "\n",
    "** 还有:**\n",
    "- 计算损失\n",
    "- 更新参数"
   ]
  },
  {
   "cell_type": "markdown",
   "metadata": {
    "collapsed": true,
    "deletable": true,
    "editable": true
   },
   "source": [
    "### 损失函数\n",
    "损失函数的定义: A loss function takes the (output, target) pair of inputs, and computes a value that estimates how far away the output is from the target.\n",
    "\n",
    "nn中常用的损失函数: [several different loss functions under the nn package](http://pytorch.org/docs/nn.html#loss-functions).\n",
    "\n",
    "最简单的loss: `nn.MSELoss` 计算均方误差\n",
    "\n"
   ]
  },
  {
   "cell_type": "code",
   "execution_count": 92,
   "metadata": {
    "collapsed": false,
    "deletable": true,
    "editable": true,
    "scrolled": true
   },
   "outputs": [
    {
     "data": {
      "text/plain": [
       "Variable containing:\n",
       " 38.2676\n",
       "[torch.FloatTensor of size 1]"
      ]
     },
     "execution_count": 92,
     "metadata": {},
     "output_type": "execute_result"
    }
   ],
   "source": [
    "output = net(input)\n",
    "target = Variable(torch.range(1, 10))  # a dummy target, for example\n",
    "criterion = nn.MSELoss()\n",
    "loss = criterion(output, target)\n",
    "loss"
   ]
  },
  {
   "cell_type": "markdown",
   "metadata": {
    "deletable": true,
    "editable": true
   },
   "source": [
    "现在如果对 `loss` 进行反向传播的溯源(使用它的`.creator` 属性),你会看到它的计算图看起来像这样:\n",
    "\n",
    "```\n",
    "input -> conv2d -> relu -> maxpool2d -> conv2d -> relu -> maxpool2d  \n",
    "      -> view -> linear -> relu -> linear -> relu -> linear \n",
    "      -> MSELoss\n",
    "      -> loss\n",
    "```\n",
    "\n",
    "所以,当我们调用`loss.backward()`, 这个图动态生成, 自动微分,图中参数(Parameter)会自动计算他们的导数,并与当前的导数相加(所以zero_grad很有必要)\n",
    "       \n",
    "      "
   ]
  },
  {
   "cell_type": "code",
   "execution_count": 93,
   "metadata": {
    "collapsed": false,
    "deletable": true,
    "editable": true
   },
   "outputs": [
    {
     "name": "stdout",
     "output_type": "stream",
     "text": [
      "<torch.nn._functions.thnn.auto.MSELoss object at 0x7f3b137bcaf0>\n",
      "<torch.nn._functions.linear.Linear object at 0x7f3b137bceb0>\n",
      "<torch.nn._functions.thnn.auto.Threshold object at 0x7f3b137bce10>\n"
     ]
    }
   ],
   "source": [
    "# For illustration, let us follow a few steps backward\n",
    "print(loss.creator) # MSELoss\n",
    "print(loss.creator.previous_functions[0][0]) # Linear\n",
    "print(loss.creator.previous_functions[0][0].previous_functions[0][0]) # ReLU/Threshold"
   ]
  },
  {
   "cell_type": "code",
   "execution_count": 94,
   "metadata": {
    "collapsed": false,
    "deletable": true,
    "editable": true
   },
   "outputs": [
    {
     "name": "stdout",
     "output_type": "stream",
     "text": [
      "conv1.bias.grad before backward\n",
      "Variable containing:\n",
      " 0\n",
      " 0\n",
      " 0\n",
      " 0\n",
      " 0\n",
      " 0\n",
      "[torch.FloatTensor of size 6]\n",
      "\n",
      "conv1.bias.grad after backward\n",
      "Variable containing:\n",
      "1.00000e-02 *\n",
      "  7.7659\n",
      "  3.1428\n",
      " -0.1714\n",
      "  3.5934\n",
      " -0.2407\n",
      " -6.1612\n",
      "[torch.FloatTensor of size 6]\n",
      "\n"
     ]
    }
   ],
   "source": [
    "# 运行.backward, 来看看调用之前和调用之后的grad\n",
    "# now we shall call loss.backward(), and have a look at conv1's bias gradients before and after the backward.\n",
    "net.zero_grad() # zeroes the gradient buffers of all parameters\n",
    "print('conv1.bias.grad before backward')\n",
    "print(net.conv1.bias.grad)\n",
    "loss.backward()\n",
    "print('conv1.bias.grad after backward')\n",
    "print(net.conv1.bias.grad)"
   ]
  },
  {
   "cell_type": "markdown",
   "metadata": {
    "deletable": true,
    "editable": true
   },
   "source": [
    "好了 ,现在我们看完了损失函数\n",
    "##### Read Later:\n",
    "\n",
    "> `nn` 包中包含大量神经网络中会用到的函数和工具 详细文档见 http://pytorch.org/docs/nn.html\n",
    "\n",
    "\n",
    "**现在只剩下:**\n",
    "- 更新网络的权重和参数\n",
    "\n",
    "### 3.3 优化器\n",
    "最简单的梯度下降法: 随机梯度下降(SGD):\n",
    "> `weight = weight - learning_rate * gradient`\n",
    "\n",
    "很容易实现\n",
    "\n",
    "```python\n",
    "learning_rate = 0.01\n",
    "for f in net.parameters():\n",
    "    f.data.sub_(f.grad.data * learning_rate)# inplace\n",
    "```\n",
    "\n",
    "torch.optim 中包含着许多常用的优化方法, 比如RMSProp,Adam等等, 非常易于使用. 而且参照着他们的代码, 实现自己的优化方法也是相当的简单. "
   ]
  },
  {
   "cell_type": "code",
   "execution_count": 95,
   "metadata": {
    "collapsed": false,
    "deletable": true,
    "editable": true
   },
   "outputs": [],
   "source": [
    "import torch.optim as optim\n",
    "# create your optimizer\n",
    "optimizer = optim.SGD(net.parameters(), lr = 0.01)\n",
    "\n",
    "# in your training loop:\n",
    "optimizer.zero_grad() # zero the gradient buffers\n",
    "output = net(input)\n",
    "loss = criterion(output, target)\n",
    "loss.backward()\n",
    "optimizer.step() # Does the update"
   ]
  },
  {
   "cell_type": "markdown",
   "metadata": {
    "deletable": true,
    "editable": true
   },
   "source": [
    "O了\n",
    "\n",
    "### 3.4 数据加载与预处理\n",
    "通常来说, 当你要处理图片, 文本,语音甚至视频数据时候, 你必须使用标准的Python工具来加载数据,并转为numpy 数组, 然后再转为torch.Tensor\n",
    " \n",
    "\n",
    "- For images, Pillow, OpenCV很有用 \n",
    "- For audio,  scipy and librosa  \n",
    "- For text, either raw Python or Cython based loading, or NLTK and SpaCy are useful.\n",
    "\n",
    "当然最好用的还是torch提供的vison包,叫做`torchvision`, 实现了常用的图像数据加载功能 比如Imagenet,CIFAR10,MNIST等等, 以及常用的数据转换操作, 这位数据加载带来了极大的方便, 并可避免撰写重复代码.\n",
    " \n",
    "来看看CIFAR10, 它有10个类别: 'airplane', 'automobile', 'bird', 'cat', 'deer', 'dog', 'frog', 'horse', 'ship', 'truck'.\n",
    " 图片大小:  3x32x32, i.e. 3-通道彩色 32x32分辨率\n",
    "\n",
    "\n",
    "## 4 练习:训练图片分类器\n",
    "\n",
    "步骤如下: \n",
    "\n",
    "\n",
    "1. 使用torchvision加载并预处理CIFAR10\n",
    "1. 定义网络\n",
    "1. 定义损失函数\n",
    "1. 训练网络(+ 更新网络参数)\n",
    "1. 测试网络\n",
    " \n",
    "\n",
    "### 4.1 加载和预处理CIFAR10\n",
    "so easy"
   ]
  },
  {
   "cell_type": "code",
   "execution_count": 42,
   "metadata": {
    "collapsed": false,
    "deletable": true,
    "editable": true
   },
   "outputs": [],
   "source": [
    "import torchvision\n",
    "import torchvision.transforms as transforms"
   ]
  },
  {
   "cell_type": "code",
   "execution_count": 43,
   "metadata": {
    "collapsed": false,
    "deletable": true,
    "editable": true
   },
   "outputs": [
    {
     "name": "stdout",
     "output_type": "stream",
     "text": [
      "Files already downloaded and verified\n",
      "Files already downloaded and verified\n"
     ]
    }
   ],
   "source": [
    "\n",
    "# torchvision dataset 的输出默认都是 PILImage: range [0, 1].\n",
    "# 通过transform 来把他们转成[-1,1]\n",
    "\n",
    "transform=transforms.Compose([transforms.ToTensor(),\n",
    "                              transforms.Normalize((0.5, 0.5, 0.5), (0.5, 0.5, 0.5)),\n",
    "                             ])\n",
    "trainset = torchvision.datasets.CIFAR10(root='/home/cy/data/', train=True, download=True, transform=transform)\n",
    "trainloader = torch.utils.data.DataLoader(trainset, batch_size=4, \n",
    "                                          shuffle=True, num_workers=2)\n",
    "\n",
    "testset = torchvision.datasets.CIFAR10(root='/home/cy/data', train=False, download=True, transform=transform)\n",
    "testloader = torch.utils.data.DataLoader(testset, batch_size=4, \n",
    "                                          shuffle=False, num_workers=2)\n",
    "classes = ('plane', 'car', 'bird', 'cat',\n",
    "           'deer', 'dog', 'frog', 'horse', 'ship', 'truck')"
   ]
  },
  {
   "cell_type": "markdown",
   "metadata": {
    "deletable": true,
    "editable": true
   },
   "source": [
    "*来看几张图片*"
   ]
  },
  {
   "cell_type": "code",
   "execution_count": 44,
   "metadata": {
    "collapsed": false,
    "deletable": true,
    "editable": true
   },
   "outputs": [],
   "source": [
    "# functions to show an image\n",
    "import matplotlib.pyplot as plt\n",
    "import numpy as np\n",
    "%matplotlib inline\n",
    "def imshow(img):\n",
    "    img = img / 2 + 0.5 # unnormalize\n",
    "    npimg = img.numpy()\n",
    "    plt.imshow(np.transpose(npimg, (1,2,0)))"
   ]
  },
  {
   "cell_type": "code",
   "execution_count": 45,
   "metadata": {
    "collapsed": false,
    "deletable": true,
    "editable": true
   },
   "outputs": [
    {
     "name": "stdout",
     "output_type": "stream",
     "text": [
      "horse   car horse truck\n"
     ]
    },
    {
     "data": {
      "image/png": "[encoded data removed]",
      "text/plain": [
       "<matplotlib.figure.Figure at 0x7f230fbc5150>"
      ]
     },
     "metadata": {},
     "output_type": "display_data"
    }
   ],
   "source": [
    "# show some random training images\n",
    "dataiter = iter(trainloader)\n",
    "images, labels = dataiter.next()\n",
    "\n",
    "# print images\n",
    "imshow(torchvision.utils.make_grid(images))\n",
    "# print labels\n",
    "print(' '.join('%5s'%classes[labels[j]] for j in range(4)))"
   ]
  },
  {
   "cell_type": "markdown",
   "metadata": {
    "deletable": true,
    "editable": true
   },
   "source": [
    "### 4.2 定义CNN\n",
    "\n",
    "**Exercise:** 直接拷贝上面的LeNet+Mnist网络,然后修改第一个参数为3通道 (因为mnist是黑白, 而cifar是32)\n",
    "\n",
    "提示: You only have to change the first layer, change the number 1 to be 3.\n",
    "\n",
    "\n",
    "```\n",
    ".\n",
    ".\n",
    ".\n",
    ".\n",
    ".\n",
    ".\n",
    ".\n",
    ".\n",
    ".\n",
    ".\n",
    ".\n",
    ".\n",
    ".\n",
    ".\n",
    ".\n",
    ".\n",
    ".\n",
    ".\n",
    ".\n",
    ".\n",
    ".\n",
    ".\n",
    ".\n",
    ".\n",
    ".\n",
    ".\n",
    ".\n",
    ".\n",
    ".\n",
    ".\n",
    "```\n",
    "\n",
    "**Solution:**"
   ]
  },
  {
   "cell_type": "code",
   "execution_count": 46,
   "metadata": {
    "collapsed": true,
    "deletable": true,
    "editable": true
   },
   "outputs": [],
   "source": [
    "class Net(nn.Module):\n",
    "    def __init__(self):\n",
    "        super(Net, self).__init__()\n",
    "        self.conv1 = nn.Conv2d(3, 6, 5)\n",
    "        self.pool  = nn.MaxPool2d(2,2)\n",
    "        self.conv2 = nn.Conv2d(6, 16, 5)\n",
    "        self.fc1   = nn.Linear(16*5*5, 120)\n",
    "        self.fc2   = nn.Linear(120, 84)\n",
    "        self.fc3   = nn.Linear(84, 10)\n",
    "\n",
    "    def forward(self, x):\n",
    "        x = self.pool(F.relu(self.conv1(x)))\n",
    "        x = self.pool(F.relu(self.conv2(x)))\n",
    "        x = x.view(-1, 16*5*5)\n",
    "        x = F.relu(self.fc1(x))\n",
    "        x = F.relu(self.fc2(x))\n",
    "        x = self.fc3(x)\n",
    "        return x\n",
    "\n",
    "net = Net()"
   ]
  },
  {
   "cell_type": "markdown",
   "metadata": {
    "deletable": true,
    "editable": true
   },
   "source": [
    "### 4.3 定义损失函数和优化器(loss和optimizer)"
   ]
  },
  {
   "cell_type": "code",
   "execution_count": 48,
   "metadata": {
    "collapsed": false,
    "deletable": true,
    "editable": true
   },
   "outputs": [],
   "source": [
    "from torch import optim\n",
    "criterion = nn.CrossEntropyLoss() # use a Classification Cross-Entropy loss 交叉熵损失函数\n",
    "optimizer = optim.SGD(net.parameters(), lr=0.001, momentum=0.9)"
   ]
  },
  {
   "cell_type": "markdown",
   "metadata": {
    "deletable": true,
    "editable": true
   },
   "source": [
    "### 4.4 训练网络\n",
    "\n",
    "写一个for循环, 不断地\n",
    "- 输入数据\n",
    "- 计算损失函数\n",
    "- 更新参数\n"
   ]
  },
  {
   "cell_type": "code",
   "execution_count": 102,
   "metadata": {
    "collapsed": false,
    "deletable": true,
    "editable": true,
    "scrolled": false
   },
   "outputs": [
    {
     "name": "stdout",
     "output_type": "stream",
     "text": [
      "[1,  2000] loss: 2.123\n",
      "[1,  4000] loss: 1.805\n",
      "[1,  6000] loss: 1.666\n",
      "[1,  8000] loss: 1.587\n",
      "[1, 10000] loss: 1.520\n",
      "[1, 12000] loss: 1.480\n",
      "[2,  2000] loss: 1.392\n",
      "[2,  4000] loss: 1.360\n",
      "[2,  6000] loss: 1.348\n",
      "[2,  8000] loss: 1.347\n",
      "[2, 10000] loss: 1.278\n",
      "[2, 12000] loss: 1.276\n",
      "Finished Training\n"
     ]
    }
   ],
   "source": [
    "for epoch in range(2): # loop over the dataset multiple times \n",
    "    \n",
    "    running_loss = 0.0\n",
    "    for i, data in enumerate(trainloader, 0):#(当所有的数据都被输入了一遍的时候,循环就会结束,所以需要上面的for epoch in)\n",
    "        # get the inputs\n",
    "        inputs, labels = data\n",
    "        \n",
    "        # wrap them in Variable\n",
    "        inputs, labels = Variable(inputs), Variable(labels)\n",
    "        \n",
    "        # zero the parameter gradients\n",
    "        optimizer.zero_grad()\n",
    "        \n",
    "        # forward + backward + optimize\n",
    "        outputs = net(inputs)\n",
    "        loss = criterion(outputs, labels)\n",
    "        loss.backward()        \n",
    "        optimizer.step()\n",
    "        \n",
    "        # print statistics\n",
    "        running_loss += loss.data[0]\n",
    "        if i % 2000 == 1999: # print every 2000 mini-batches\n",
    "            print('[%d, %5d] loss: %.3f' % (epoch+1, i+1, running_loss / 2000))\n",
    "            running_loss = 0.0\n",
    "print('Finished Training')"
   ]
  },
  {
   "cell_type": "markdown",
   "metadata": {
    "deletable": true,
    "editable": true
   },
   "source": [
    "我们训练了2个epoch(也就是每张图片都输入训练了两次)\n",
    "\n",
    "可以看看网络有没有效果(测试的图片输入到网络中, 计算它的label, 然后和实际的label进行比较)\n",
    "\n",
    "先来看看测试集中的一张图片."
   ]
  },
  {
   "cell_type": "code",
   "execution_count": 103,
   "metadata": {
    "collapsed": false,
    "deletable": true,
    "editable": true
   },
   "outputs": [
    {
     "name": "stdout",
     "output_type": "stream",
     "text": [
      "GroundTruth:    cat  ship  ship plane\n"
     ]
    },
    {
     "data": {
      "image/png": "[encoded data removed]",
      "text/plain": [
       "<matplotlib.figure.Figure at 0x7f3b04f987d0>"
      ]
     },
     "metadata": {},
     "output_type": "display_data"
    }
   ],
   "source": [
    "dataiter = iter(testloader)\n",
    "images, labels = dataiter.next()\n",
    "\n",
    "# print images\n",
    "imshow(torchvision.utils.make_grid(images))\n",
    "print('GroundTruth: ', ' '.join('%5s'%classes[labels[j]] for j in range(4)))"
   ]
  },
  {
   "cell_type": "markdown",
   "metadata": {
    "deletable": true,
    "editable": true
   },
   "source": [
    "计算label"
   ]
  },
  {
   "cell_type": "code",
   "execution_count": 104,
   "metadata": {
    "collapsed": false,
    "deletable": true,
    "editable": true
   },
   "outputs": [
    {
     "name": "stdout",
     "output_type": "stream",
     "text": [
      "Predicted:    cat   car plane plane\n"
     ]
    }
   ],
   "source": [
    "# 计算图片在每个类别上的分数(能量?)\n",
    "outputs = net(Variable(images))\n",
    "\n",
    "# the outputs are energies for the 10 classes. \n",
    "# Higher the energy for a class, the more the network \n",
    "# thinks that the image is of the particular class\n",
    "\n",
    "# 得分最高的那个类\n",
    "_, predicted = torch.max(outputs.data, 1)\n",
    "\n",
    "print('Predicted: ', ' '.join('%5s'% classes[predicted[j][0]] for j in range(4)))"
   ]
  },
  {
   "cell_type": "markdown",
   "metadata": {
    "deletable": true,
    "editable": true
   },
   "source": [
    "还行,至少比随机预测好, 接下来看看在这个测试集的准确率"
   ]
  },
  {
   "cell_type": "code",
   "execution_count": 105,
   "metadata": {
    "collapsed": false,
    "deletable": true,
    "editable": true
   },
   "outputs": [
    {
     "name": "stdout",
     "output_type": "stream",
     "text": [
      "Accuracy of the network on the 10000 test images: 54 %\n"
     ]
    }
   ],
   "source": [
    "correct = 0\n",
    "total = 0\n",
    "for data in testloader:\n",
    "    images, labels = data\n",
    "    outputs = net(Variable(images))\n",
    "    _, predicted = torch.max(outputs.data, 1)\n",
    "    total += labels.size(0)\n",
    "    correct += (predicted == labels).sum()\n",
    "\n",
    "print('Accuracy of the network on the 10000 test images: %d %%' % (100 * correct / total))"
   ]
  },
  {
   "cell_type": "markdown",
   "metadata": {
    "deletable": true,
    "editable": true
   },
   "source": [
    "远比随机猜测(准确率10%)好,说明网络学到了点东西 \n",
    " "
   ]
  },
  {
   "cell_type": "code",
   "execution_count": 106,
   "metadata": {
    "collapsed": false,
    "deletable": true,
    "editable": true
   },
   "outputs": [],
   "source": [
    "class_correct = list(0. for i in range(10))\n",
    "class_total = list(0. for i in range(10))\n",
    "for data in testloader:\n",
    "    images, labels = data\n",
    "    outputs = net(Variable(images))\n",
    "    _, predicted = torch.max(outputs.data, 1)\n",
    "    c = (predicted == labels).squeeze()\n",
    "    for i in range(4):\n",
    "        label = labels[i]\n",
    "        class_correct[label] += c[i]\n",
    "        class_total[label] += 1"
   ]
  },
  {
   "cell_type": "code",
   "execution_count": 107,
   "metadata": {
    "collapsed": false,
    "deletable": true,
    "editable": true
   },
   "outputs": [
    {
     "name": "stdout",
     "output_type": "stream",
     "text": [
      "Accuracy of plane : 67 %\n",
      "Accuracy of   car : 67 %\n",
      "Accuracy of  bird : 48 %\n",
      "Accuracy of   cat : 40 %\n",
      "Accuracy of  deer : 43 %\n",
      "Accuracy of   dog : 56 %\n",
      "Accuracy of  frog : 47 %\n",
      "Accuracy of horse : 56 %\n",
      "Accuracy of  ship : 53 %\n",
      "Accuracy of truck : 59 %\n"
     ]
    }
   ],
   "source": [
    "for i in range(10):\n",
    "    print('Accuracy of %5s : %2d %%' % (classes[i], 100 * class_correct[i] / class_total[i]))"
   ]
  },
  {
   "cell_type": "markdown",
   "metadata": {
    "collapsed": true,
    "deletable": true,
    "editable": true,
    "slideshow": {
     "slide_type": "notes"
    }
   },
   "source": [
    "下一步:\n",
    "如何在GPU上跑?"
   ]
  },
  {
   "cell_type": "markdown",
   "metadata": {
    "deletable": true,
    "editable": true
   },
   "source": [
    "#### 4.5 Training on the GPU\n",
    "就像我们之前把Tensor从CPU转到GPU一样, 模型也可以很简单的从CPU转到GPU, \n",
    "这会把所有的模型参数和buffer转成CUDA tensor\n",
    " "
   ]
  },
  {
   "cell_type": "code",
   "execution_count": null,
   "metadata": {
    "collapsed": false,
    "deletable": true,
    "editable": true
   },
   "outputs": [],
   "source": [
    "net.cuda()"
   ]
  },
  {
   "cell_type": "markdown",
   "metadata": {
    "deletable": true,
    "editable": true
   },
   "source": [
    "如果你觉得在GPU上没有比CPU提速很多, 不要着急, 那是因为这个网络实在太小了\n",
    " \n",
    "**Exercise:** 增加网络的深度和宽度 , 看看提速如何\n",
    "(第一个 `nn.Conv2d`的第二个参数,第二个 `nn.Conv2d`的第一个参数, 需要一样(you know Why)  "
   ]
  },
  {
   "cell_type": "markdown",
   "metadata": {
    "deletable": true,
    "editable": true
   },
   "source": [
    "\n",
    "#### Goals achieved:\n",
    "\n",
    "- 理解PyTorch的核心数据结构 Tensor 和Variable， 以及高阶的神经网络接口\n",
    "- 训练一个神经网络进行图片分类（mnist+cifar10）"
   ]
  },
  {
   "cell_type": "markdown",
   "metadata": {
    "deletable": true,
    "editable": true
   },
   "source": [
    "### 5 更多show time\n",
    "#### 5.1 model"
   ]
  },
  {
   "cell_type": "code",
   "execution_count": null,
   "metadata": {
    "collapsed": true,
    "deletable": true,
    "editable": true
   },
   "outputs": [],
   "source": [
    "import torchvision.models as models\n",
    "alexnet = models.alexnet(pretrained=True)  #已经根据论文定义好了模型， 并且有训练好的参数\n",
    "#可以很方便的进行Finetune和特征提取"
   ]
  },
  {
   "cell_type": "markdown",
   "metadata": {
    "deletable": true,
    "editable": true
   },
   "source": [
    "#### 5.2 ImageFolder\n",
    "\n",
    "\n",
    "ImageFolder\n",
    "假设图片的文件夹如下所式 :\n",
    "```\n",
    "root/good/xxx.png\n",
    "root/good/xxy.png\n",
    "root/good/xxz.png\n",
    "\n",
    "root/bad/123.png\n",
    "root/bad/nsdf3.png\n",
    "root/bad/asd932_.png\n",
    "```\n",
    "\n",
    "通过如下代码可加载：\n",
    "\n",
    "\n",
    "------\n",
    "\n",
    "```python\n",
    "val_dataset = MyImageFolder('/root',\n",
    "                transform=transforms.Compose([transforms.Scale(opt.image_size),\n",
    "                                             # transforms.Lambda(lambda image:image.rotate(random.randint(0,359))),\n",
    "                                              transforms.ToTensor(),\n",
    "                                              transforms.Normalize([0.5]*3,[0.5]*3)\n",
    "                                             ]), loader=my_loader)\n",
    "\n",
    "val_dataloader=t.utils.data.DataLoader(val_dataset,opt.batch_size,True,num_workers=opt.workers, collate_fn=my_collate)\n",
    "```\n",
    "其中my_loader 用来加载指定路径的图片到内存\n",
    "my_collate 用来对dataset加载的数据进行检查\n",
    "transforms 包含两大类的操作：\n",
    "1. PIL的Image对象的操作\n",
    "2. Torch 的Tensor对象的操作\n",
    "\n",
    "还可以利用transforms.Lambda 传入任意的函数进行操作\n",
    "\n",
    "\n",
    "比如要在传入的图片中进行随机旋转（每次）\n",
    "```python\n",
    "val_dataset = MyImageFolder('/root',\n",
    "                transform=transforms.Compose([transforms.Scale(opt.image_size),\n",
    "                                              transforms.Lambda(lambda image:image.rotate(random.randint(0,359))),\n",
    "                                              transforms.ToTensor(),\n",
    "                                              transforms.Normalize([0.5]*3,[0.5]*3)\n",
    "                                             ]), loader=my_loader)\n",
    "\n",
    "val_dataloader=t.utils.data.DataLoader(val_dataset,opt.batch_size,True,num_workers=opt.workers, collate_fn=my_collate)\n",
    "```\n",
    "\n",
    "-----\n",
    "\n"
   ]
  },
  {
   "cell_type": "markdown",
   "metadata": {
    "deletable": true,
    "editable": true
   },
   "source": [
    "\n",
    "### 如何finetune\n",
    "1. 如何加载和保存模型\n",
    "1. 如何给不同的网络层设置不同的学习率\n",
    "2. 如何冻结某些网络层的学习率\n",
    "3. 如何从某一层中提取feature"
   ]
  },
  {
   "cell_type": "markdown",
   "metadata": {
    "deletable": true,
    "editable": true
   },
   "source": [
    "### 50行训练GAN"
   ]
  },
  {
   "cell_type": "markdown",
   "metadata": {
    "deletable": true,
    "editable": true
   },
   "source": [
    "## 后续学习?\n",
    "\n",
    "- [训练网络来打游戏(强化学习)](https://goo.gl/uGOksc)\n",
    "- [在IMAGENET上训练ResNet](https://github.com/pytorch/examples/tree/master/imagenet)\n",
    "- [DCGAN](https://github.com/pytorch/examples/tree/master/dcgan)\n",
    "- [LSTM+language model](https://github.com/pytorch/examples/tree/master/word_language_model)\n",
    "- [更多官方example](https://github.com/pytorch/examples)\n",
    "- [更多 tutorials](https://github.com/pytorch/tutorials)\n",
    "- [论坛](https://discuss.pytorch.org/)\n",
    "- [ Slack](http://pytorch.slack.com/messages/beginner/)"
   ]
  }
 ],
 "metadata": {
  "kernelspec": {
   "display_name": "Python 2",
   "language": "python",
   "name": "python2"
  },
  "language_info": {
   "codemirror_mode": {
    "name": "ipython",
    "version": 2
   },
   "file_extension": ".py",
   "mimetype": "text/x-python",
   "name": "python",
   "nbconvert_exporter": "python",
   "pygments_lexer": "ipython2",
   "version": "2.7.13"
  }
 },
 "nbformat": 4,
 "nbformat_minor": 0
}
